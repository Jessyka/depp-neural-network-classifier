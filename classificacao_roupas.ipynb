{
  "nbformat": 4,
  "nbformat_minor": 0,
  "metadata": {
    "colab": {
      "name": "classificacao_roupas.ipynb",
      "provenance": [],
      "collapsed_sections": [],
      "authorship_tag": "ABX9TyNoRYFJzBzfDy1rziLSOIj7",
      "include_colab_link": true
    },
    "kernelspec": {
      "name": "python3",
      "display_name": "Python 3"
    }
  },
  "cells": [
    {
      "cell_type": "markdown",
      "metadata": {
        "id": "view-in-github",
        "colab_type": "text"
      },
      "source": [
        "<a href=\"https://colab.research.google.com/github/Jessyka/depp-neural-network-classifier/blob/master/classificacao_roupas.ipynb\" target=\"_parent\"><img src=\"https://colab.research.google.com/assets/colab-badge.svg\" alt=\"Open In Colab\"/></a>"
      ]
    },
    {
      "cell_type": "code",
      "metadata": {
        "id": "e1Nv15BwOKYC",
        "colab_type": "code",
        "colab": {
          "base_uri": "https://localhost:8080/",
          "height": 557
        },
        "outputId": "43003f3f-a8d7-4c19-d1f3-df0083974152"
      },
      "source": [
        "import tensorflow\n",
        "from tensorflow import keras\n",
        "import matplotlib.pyplot as plt\n",
        "import numpy as np\n",
        "from tensorflow.keras.models import load_model\n",
        "\n",
        "datasets = keras.datasets.fashion_mnist\n",
        "((imagens_treino, identificacoes_treino), (test_data, test_identification)) = datasets.load_data()\n",
        "\n",
        "\n",
        "# training_data.shape\n",
        "# test_data.shape\n",
        "\n",
        "\n",
        "#plt.imshow(training_data[0])\n",
        "#plt.title(training_identification[0])\n",
        "\n",
        "total_de_classificacoes = 10\n",
        "nomes_de_classificacoes = ['Camiseta', 'Calça', 'Pullover', \n",
        "                           'Vestido', 'Casaco', 'Sandália', 'Camisa',\n",
        "                           'Tênis', 'Bolsa', 'Bota']\n",
        "'''\n",
        "plt.imshow(imagens_treino[0])\n",
        "plt.title(identificacoes_treino[0])\n",
        "\n",
        "for imagem in range(10):\n",
        "  plt.subplot(2, 5, imagem+1)\n",
        "  plt.imshow(imagens_treino[imagem])\n",
        "  plt.title(nomes_de_classificacoes[identificacoes_treino[imagem]])\n",
        "'''  \n",
        "#plt.imshow(imagens_treino[0])\n",
        "#plt.colorbar()\n",
        "\n",
        "imagens_treino = imagens_treino/float(255)\n",
        "\n",
        "\n",
        "modelo = keras.Sequential([ \n",
        "    keras.layers.Flatten(input_shape=(28, 28)),\n",
        "    keras.layers.Dense(256, activation=tensorflow.nn.relu),\n",
        "    keras.layers.Dropout(0.2),\n",
        "    keras.layers.Dense(10, activation=tensorflow.nn.softmax)\n",
        "])\n",
        "\n",
        "modelo.compile(optimizer='adam', \n",
        "               loss='sparse_categorical_crossentropy',\n",
        "               metrics=['accuracy'])\n",
        "\n",
        "historico = modelo.fit(imagens_treino, identificacoes_treino, epochs=5, validation_split=0.2)\n",
        "\n",
        "# modelo.save('modelo.h5')\n",
        "# modelo_salvo = load_model('modelo.h5')\n",
        "\n",
        "\n",
        "plt.plot(historico.history['accuracy'])\n",
        "plt.plot(historico.history['val_accuracy'])\n",
        "plt.title('Acurácia por épocas')\n",
        "plt.xlabel('épocas')\n",
        "plt.ylabel('acurácia')\n",
        "plt.legend(['treino', 'validação'])\n",
        "\n",
        "plt.plot(historico.history['loss'])\n",
        "plt.plot(historico.history['val_loss'])\n",
        "plt.title('Perda por épocas')\n",
        "plt.xlabel('épocas')\n",
        "plt.ylabel('perda')\n",
        "plt.legend(['treino', 'validação'])\n",
        "\n",
        "testes = modelo.predict(test_data)\n",
        "print('resultado teste:', np.argmax(testes[1]))\n",
        "print('número da imagem de teste:', test_identification[1])\n",
        "\n",
        "# testes_modelo_salvo = modelo_salvo.predict(imagens_teste)\n",
        "# print('resultado teste modelo salvo:', np.argmax(testes_modelo_salvo[1]))\n",
        "# print('número da imagem de teste:', test_identification[1])\n",
        "\n",
        "perda_teste, acuracia_teste = modelo.evaluate(test_data, test_identification)\n",
        "print('Perda do teste:', perda_teste)\n",
        "print('Acurácia do teste:', acuracia_teste)\n",
        "\n",
        "\n",
        "\n",
        "\n"
      ],
      "execution_count": 10,
      "outputs": [
        {
          "output_type": "stream",
          "text": [
            "Epoch 1/5\n",
            "1500/1500 [==============================] - 4s 3ms/step - loss: 0.5303 - accuracy: 0.8120 - val_loss: 0.4022 - val_accuracy: 0.8591\n",
            "Epoch 2/5\n",
            "1500/1500 [==============================] - 4s 3ms/step - loss: 0.3975 - accuracy: 0.8556 - val_loss: 0.3744 - val_accuracy: 0.8636\n",
            "Epoch 3/5\n",
            "1500/1500 [==============================] - 4s 3ms/step - loss: 0.3653 - accuracy: 0.8663 - val_loss: 0.3473 - val_accuracy: 0.8732\n",
            "Epoch 4/5\n",
            "1500/1500 [==============================] - 4s 3ms/step - loss: 0.3383 - accuracy: 0.8743 - val_loss: 0.3570 - val_accuracy: 0.8702\n",
            "Epoch 5/5\n",
            "1500/1500 [==============================] - 4s 3ms/step - loss: 0.3254 - accuracy: 0.8797 - val_loss: 0.3330 - val_accuracy: 0.8808\n",
            "resultado teste: 2\n",
            "número da imagem de teste: 2\n",
            "313/313 [==============================] - 0s 1ms/step - loss: 55.2439 - accuracy: 0.8609\n",
            "Perda do teste: 55.2439079284668\n",
            "Acurácia do teste: 0.8608999848365784\n"
          ],
          "name": "stdout"
        },
        {
          "output_type": "display_data",
          "data": {
            "image/png": "[encoded data removed]",
            "text/plain": [
              "<Figure size 432x288 with 1 Axes>"
            ]
          },
          "metadata": {
            "tags": [],
            "needs_background": "light"
          }
        }
      ]
    }
  ]
}